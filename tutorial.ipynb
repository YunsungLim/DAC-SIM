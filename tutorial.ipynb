{
 "cells": [
  {
   "cell_type": "code",
   "execution_count": null,
   "metadata": {},
   "outputs": [],
   "source": [
    "%load_ext autoreload\n",
    "%autoreload 2"
   ]
  },
  {
   "cell_type": "code",
   "execution_count": null,
   "metadata": {},
   "outputs": [],
   "source": [
    "from ase.io import read\n",
    "from ase.build import molecule\n",
    "\n",
    "from dac_sim.widom_insertion import WidomInsertion\n",
    "\n",
    "# Load the structure and build the gas\n",
    "structure = read(\"examples/mg-mof-74.cif\")\n",
    "gas = molecule(\"CO2\")\n",
    "\n",
    "# Create the WidomInsertion object\n",
    "temperature = 300  # [K]\n",
    "trajectory = \"widom_co2_mg-mof-74.traj\"\n",
    "logfile = \"widom_co2_mg-mof-74.log\"\n",
    "widom_insertion = WidomInsertion(\n",
    "    structure,\n",
    "    gas=gas,\n",
    "    temperature=temperature,\n",
    "    trajectory=trajectory,\n",
    "    logfile=logfile,\n",
    "    device=\"cuda\",\n",
    "    default_dtype=\"float32\",\n",
    "    dispersion=True,\n",
    ")\n",
    "result = widom_insertion.run(num_insertions=5000, random_seed=0, fold=2)\n",
    "print(result)"
   ]
  },
  {
   "cell_type": "code",
   "execution_count": null,
   "metadata": {},
   "outputs": [],
   "source": [
    "from ase.io import read\n",
    "from ase.build import molecule\n",
    "from ase.visualize import view\n",
    "from dac_sim.molecule_dynamic import MolecularDynamic\n",
    "\n",
    "# Load the structure and build the gas\n",
    "structure = read(\"examples/mg-mof-74.cif\")\n",
    "gas_list = [molecule(\"CO2\"), molecule(\"H2O\")]\n",
    "\n",
    "# Run the molecular dynamics simulation\n",
    "timestep = 1.0  # [fs]\n",
    "temperature = 300  # [K]\n",
    "trajectory = \"md_co2_h2o_mg-mof-74.traj\"\n",
    "logfile = \"md_co2_h2o_mg-mof-74.log\"\n",
    "md = MolecularDynamic(\n",
    "    structure,\n",
    "    gas_list=gas_list,\n",
    "    timesteps=timestep,\n",
    "    temperature=temperature,\n",
    "    trajectory=trajectory,\n",
    "    logfile=logfile,\n",
    "    loginterval=10,\n",
    "    device=\"cuda\",\n",
    "    default_dtype=\"float32\",\n",
    "    dispersion=True,\n",
    ")\n",
    "md.run(num_init_steps=5000, num_md_steps=10000)\n",
    "\n",
    "# Calculate diffusion coefficient\n",
    "result = md.calculate_diffusion_coefficient(show_plot=True)\n",
    "print(result)\n",
    "\n",
    "# Visualize the trajectory\n",
    "traj = read(\"md_co2_h2o_mg-mof-74.traj\", \":\")\n",
    "view(traj, viewer=\"ngl\")"
   ]
  },
  {
   "cell_type": "code",
   "execution_count": null,
   "metadata": {},
   "outputs": [],
   "source": [
    "from ase.io import read\n",
    "from dac_sim.optimize import GeometryOptimization\n",
    "\n",
    "# Load the structure\n",
    "structure = read(\"examples/mg-mof-74.cif\")\n",
    "\n",
    "# Run geometry optimization\n",
    "go = GeometryOptimization(\n",
    "    num_total_optimization=30,\n",
    "    num_internal_steps=50,\n",
    "    num_cell_steps=50,\n",
    "    fmax=0.05,\n",
    "    cell_relax=True,\n",
    "    device=\"cuda\",\n",
    "    default_dtype=\"float32\",\n",
    "    dispersion=True,\n",
    ")\n",
    "opt_structure = go.run(structure)"
   ]
  }
 ],
 "metadata": {
  "kernelspec": {
   "display_name": "DAC-sim",
   "language": "python",
   "name": "python3"
  },
  "language_info": {
   "codemirror_mode": {
    "name": "ipython",
    "version": 3
   },
   "file_extension": ".py",
   "mimetype": "text/x-python",
   "name": "python",
   "nbconvert_exporter": "python",
   "pygments_lexer": "ipython3",
   "version": "3.10.14"
  }
 },
 "nbformat": 4,
 "nbformat_minor": 2
}
